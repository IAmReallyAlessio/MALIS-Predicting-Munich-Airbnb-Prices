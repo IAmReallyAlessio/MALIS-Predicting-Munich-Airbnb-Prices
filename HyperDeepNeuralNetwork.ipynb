{
 "cells": [
  {
   "cell_type": "code",
   "execution_count": null,
   "metadata": {
    "execution": {
     "iopub.execute_input": "2025-01-19T20:31:11.199755Z",
     "iopub.status.busy": "2025-01-19T20:31:11.199422Z",
     "iopub.status.idle": "2025-01-19T20:31:12.127868Z",
     "shell.execute_reply": "2025-01-19T20:31:12.126942Z",
     "shell.execute_reply.started": "2025-01-19T20:31:11.199724Z"
    },
    "trusted": true
   },
   "outputs": [],
   "source": [
    "import os\n",
    "import copy\n",
    "import itertools\n",
    "import numpy as np\n",
    "import pandas as pd\n",
    "import torch\n",
    "import torch.nn as nn\n",
    "import torch.nn.functional as F\n",
    "import torch.optim as optim\n",
    "from torch.utils.data import DataLoader, TensorDataset\n",
    "from torch.nn.parameter import Parameter\n",
    "from sklearn.model_selection import ParameterGrid, train_test_split\n",
    "from sklearn.preprocessing import StandardScaler\n",
    "from sklearn.metrics import r2_score\n",
    "from sklearn.ensemble import RandomForestRegressor\n",
    "from sklearn.feature_selection import SelectFromModel\n",
    "from torch.nn import Mish\n",
    "import wandb"
   ]
  },
  {
   "cell_type": "code",
   "execution_count": 3,
   "metadata": {
    "execution": {
     "iopub.execute_input": "2025-01-19T20:31:12.129414Z",
     "iopub.status.busy": "2025-01-19T20:31:12.128997Z",
     "iopub.status.idle": "2025-01-19T20:31:12.619955Z",
     "shell.execute_reply": "2025-01-19T20:31:12.619028Z",
     "shell.execute_reply.started": "2025-01-19T20:31:12.129380Z"
    },
    "trusted": true
   },
   "outputs": [
    {
     "name": "stdout",
     "output_type": "stream",
     "text": [
      "<class 'pandas.core.frame.DataFrame'>\n",
      "RangeIndex: 7391 entries, 0 to 7390\n",
      "Data columns (total 80 columns):\n",
      " #   Column                                                                         Non-Null Count  Dtype  \n",
      "---  ------                                                                         --------------  -----  \n",
      " 0   host_is_superhost                                                              7391 non-null   float64\n",
      " 1   host_listings_count                                                            7391 non-null   float64\n",
      " 2   host_identity_verified                                                         7391 non-null   int64  \n",
      " 3   latitude                                                                       7391 non-null   float64\n",
      " 4   longitude                                                                      7391 non-null   float64\n",
      " 5   accommodates                                                                   7391 non-null   float64\n",
      " 6   bedrooms                                                                       7391 non-null   float64\n",
      " 7   beds                                                                           7391 non-null   float64\n",
      " 8   price                                                                          7391 non-null   float64\n",
      " 9   minimum_nights                                                                 7391 non-null   float64\n",
      " 10  maximum_nights                                                                 7391 non-null   float64\n",
      " 11  has_availability                                                               7391 non-null   int64  \n",
      " 12  availability_30                                                                7391 non-null   float64\n",
      " 13  availability_60                                                                7391 non-null   float64\n",
      " 14  availability_90                                                                7391 non-null   float64\n",
      " 15  availability_365                                                               7391 non-null   float64\n",
      " 16  number_of_reviews                                                              7391 non-null   float64\n",
      " 17  number_of_reviews_ltm                                                          7391 non-null   bool   \n",
      " 18  number_of_reviews_l30d                                                         7391 non-null   bool   \n",
      " 19  instant_bookable                                                               7391 non-null   int64  \n",
      " 20  calculated_host_listings_count                                                 7391 non-null   float64\n",
      " 21  reviews_per_month                                                              7391 non-null   float64\n",
      " 22  num_bathrooms                                                                  7391 non-null   float64\n",
      " 23  has_wifi                                                                       7391 non-null   int64  \n",
      " 24  has_pool                                                                       7391 non-null   int64  \n",
      " 25  has_gym                                                                        7391 non-null   int64  \n",
      " 26  has_bluetooth                                                                  7391 non-null   int64  \n",
      " 27  has_refrigerator                                                               7391 non-null   int64  \n",
      " 28  has_stove                                                                      7391 non-null   int64  \n",
      " 29  has_oven                                                                       7391 non-null   int64  \n",
      " 30  has_TV                                                                         7391 non-null   int64  \n",
      " 31  has_grill                                                                      7391 non-null   int64  \n",
      " 32  has_parking                                                                    7391 non-null   int64  \n",
      " 33  has_garage                                                                     7391 non-null   int64  \n",
      " 34  has_kitchen                                                                    7391 non-null   int64  \n",
      " 35  has_fireplace                                                                  7391 non-null   int64  \n",
      " 36  has_housekeeping                                                               7391 non-null   int64  \n",
      " 37  has_console                                                                    7391 non-null   int64  \n",
      " 38  has_exercise                                                                   7391 non-null   int64  \n",
      " 39  has_coffee_maker                                                               7391 non-null   int64  \n",
      " 40  has_clothing_storage                                                           7391 non-null   int64  \n",
      " 41  review_scores_mean                                                             7391 non-null   float64\n",
      " 42  neighbourhood_cleansed_Altstadt-Lehel                                          7391 non-null   bool   \n",
      " 43  neighbourhood_cleansed_Au-Haidhausen                                           7391 non-null   bool   \n",
      " 44  neighbourhood_cleansed_Aubing-Lochhausen-Langwied                              7391 non-null   bool   \n",
      " 45  neighbourhood_cleansed_Berg am Laim                                            7391 non-null   bool   \n",
      " 46  neighbourhood_cleansed_Bogenhausen                                             7391 non-null   bool   \n",
      " 47  neighbourhood_cleansed_Feldmoching-Hasenbergl                                  7391 non-null   bool   \n",
      " 48  neighbourhood_cleansed_Hadern                                                  7391 non-null   bool   \n",
      " 49  neighbourhood_cleansed_Laim                                                    7391 non-null   bool   \n",
      " 50  neighbourhood_cleansed_Ludwigsvorstadt-Isarvorstadt                            7391 non-null   bool   \n",
      " 51  neighbourhood_cleansed_Maxvorstadt                                             7391 non-null   bool   \n",
      " 52  neighbourhood_cleansed_Milbertshofen-Am Hart                                   7391 non-null   bool   \n",
      " 53  neighbourhood_cleansed_Moosach                                                 7391 non-null   bool   \n",
      " 54  neighbourhood_cleansed_Neuhausen-Nymphenburg                                   7391 non-null   bool   \n",
      " 55  neighbourhood_cleansed_Obergiesing                                             7391 non-null   bool   \n",
      " 56  neighbourhood_cleansed_Pasing-Obermenzing                                      7391 non-null   bool   \n",
      " 57  neighbourhood_cleansed_Ramersdorf-Perlach                                      7391 non-null   bool   \n",
      " 58  neighbourhood_cleansed_Schwabing-Freimann                                      7391 non-null   bool   \n",
      " 59  neighbourhood_cleansed_Schwabing-West                                          7391 non-null   bool   \n",
      " 60  neighbourhood_cleansed_Schwanthalerhöhe                                        7391 non-null   bool   \n",
      " 61  neighbourhood_cleansed_Sendling                                                7391 non-null   bool   \n",
      " 62  neighbourhood_cleansed_Sendling-Westpark                                       7391 non-null   bool   \n",
      " 63  neighbourhood_cleansed_Thalkirchen-Obersendling-Forstenried-Fürstenried-Solln  7391 non-null   bool   \n",
      " 64  neighbourhood_cleansed_Tudering-Riem                                           7391 non-null   bool   \n",
      " 65  neighbourhood_cleansed_Untergiesing-Harlaching                                 7391 non-null   bool   \n",
      " 66  property_type_Entire home                                                      7391 non-null   bool   \n",
      " 67  property_type_Entire loft                                                      7391 non-null   bool   \n",
      " 68  property_type_Entire rental unit                                               7391 non-null   bool   \n",
      " 69  property_type_Entire serviced apartment                                        7391 non-null   bool   \n",
      " 70  property_type_Private room in condo                                            7391 non-null   bool   \n",
      " 71  property_type_Private room in home                                             7391 non-null   bool   \n",
      " 72  property_type_Private room in rental unit                                      7391 non-null   bool   \n",
      " 73  property_type_Private room in townhouse                                        7391 non-null   bool   \n",
      " 74  property_type_Room in boutique hotel                                           7391 non-null   bool   \n",
      " 75  property_type_Room in hotel                                                    7391 non-null   bool   \n",
      " 76  property_type_Shared room in rental unit                                       7391 non-null   bool   \n",
      " 77  type_bathroom_private                                                          7391 non-null   bool   \n",
      " 78  type_bathroom_shared                                                           7391 non-null   bool   \n",
      " 79  type_bathroom_shared baths                                                     7391 non-null   bool   \n",
      "dtypes: bool(40), float64(19), int64(21)\n",
      "memory usage: 2.5 MB\n",
      "None\n"
     ]
    }
   ],
   "source": [
    "listing_path = 'listings_clean.csv'\n",
    "listing_data = pd.read_csv(listing_path)\n",
    "print(listing_data.info())"
   ]
  },
  {
   "cell_type": "code",
   "execution_count": null,
   "metadata": {
    "execution": {
     "iopub.execute_input": "2025-01-19T20:31:19.891550Z",
     "iopub.status.busy": "2025-01-19T20:31:19.891287Z",
     "iopub.status.idle": "2025-01-19T20:31:35.960563Z",
     "shell.execute_reply": "2025-01-19T20:31:35.959722Z",
     "shell.execute_reply.started": "2025-01-19T20:31:19.891507Z"
    },
    "trusted": true
   },
   "outputs": [],
   "source": [
    "# Set device\n",
    "device = torch.device(\"cuda\" if torch.cuda.is_available() else \"cpu\")\n",
    "# device = torch.device(\"cpu\")\n",
    "X = listing_data.drop(columns=['price']).values\n",
    "y = listing_data['price'].values\n",
    "# Set the random forest remove less important features\n",
    "rf = RandomForestRegressor(random_state=42, n_estimators=100)\n",
    "# Fit the model\n",
    "rf.fit(X, y)\n",
    "sfm = SelectFromModel(rf, threshold=0.002, prefit=True)\n",
    "X_important = sfm.transform(X)\n",
    "X_train, X_test, y_train, y_test = train_test_split(X_important, y, test_size=0.2, random_state=42)\n",
    "# Standardize the data\n",
    "scaler = StandardScaler()\n",
    "X_train = scaler.fit_transform(X_train)\n",
    "X_test = scaler.transform(X_test)\n",
    "# Convert to tensor\n",
    "X_train_tensor = torch.tensor(X_train, dtype=torch.float32).to(device)\n",
    "y_train_tensor = torch.tensor(y_train, dtype=torch.float32).unsqueeze(1).to(device)\n",
    "X_test_tensor = torch.tensor(X_test, dtype=torch.float32).to(device)\n",
    "y_test_tensor = torch.tensor(y_test, dtype=torch.float32).unsqueeze(1).to(device)\n",
    "# Create dataset\n",
    "train_data = TensorDataset(X_train_tensor, y_train_tensor)\n",
    "test_data = TensorDataset(X_test_tensor, y_test_tensor)"
   ]
  },
  {
   "cell_type": "code",
   "execution_count": null,
   "metadata": {
    "execution": {
     "iopub.execute_input": "2025-01-19T20:31:35.962287Z",
     "iopub.status.busy": "2025-01-19T20:31:35.961752Z",
     "iopub.status.idle": "2025-01-19T20:31:35.979489Z",
     "shell.execute_reply": "2025-01-19T20:31:35.978781Z",
     "shell.execute_reply.started": "2025-01-19T20:31:35.962252Z"
    },
    "trusted": true
   },
   "outputs": [],
   "source": [
    "# Set device\n",
    "device = torch.device(\"cuda\" if torch.cuda.is_available() else \"cpu\")\n",
    "input_features = X_train.shape[1]\n",
    "output_dim = 1\n",
    "# Define the HyperNetwork\n",
    "class HyperNetwork(nn.Module):\n",
    "    def __init__(self, f_size=3, z_dim=64, out_size=16, in_size=16):\n",
    "        # Initialize the hypernetwork\n",
    "        super(HyperNetwork, self).__init__()\n",
    "        # Set the dimensions of latent vector, filter size, output size and input size\n",
    "        self.z_dim = z_dim\n",
    "        self.f_size = f_size\n",
    "        self.out_size = out_size\n",
    "        self.in_size = in_size\n",
    "        # Define the weights and biases for the hypernetwork\n",
    "        self.w1 = Parameter(torch.fmod(torch.randn((self.z_dim, self.out_size * self.f_size * self.f_size)).cuda(), 2))\n",
    "        self.b1 = Parameter(torch.fmod(torch.randn((self.out_size * self.f_size * self.f_size)).cuda(), 2))\n",
    "        self.w2 = Parameter(torch.fmod(torch.randn((self.z_dim, self.in_size * self.z_dim)).cuda(), 2))\n",
    "        self.b2 = Parameter(torch.fmod(torch.randn((self.in_size * self.z_dim)).cuda(), 2))\n",
    "\n",
    "    def forward(self, z):\n",
    "        h_in = torch.matmul(z, self.w2) + self.b2\n",
    "        h_in = h_in.view(-1, self.z_dim)\n",
    "        h_final = torch.matmul(h_in, self.w1) + self.b1\n",
    "        kernel = h_final.view(self.out_size, self.in_size, self.f_size, self.f_size)\n",
    "        return kernel\n",
    "        \n",
    "class Embedding(nn.Module):\n",
    "    def __init__(self, z_num, z_dim):\n",
    "        # Initialize the embedding\n",
    "        super(Embedding, self).__init__()\n",
    "        # Set the dimensions of latent vector and dimension\n",
    "        self.z_list = nn.ParameterList()\n",
    "        self.z_num = z_num\n",
    "        self.z_dim = z_dim \n",
    "        h, k = self.z_num\n",
    "        # Create the latent vectors\n",
    "        for i in range(h):\n",
    "            for j in range(k):\n",
    "                self.z_list.append(Parameter(torch.fmod(torch.randn(self.z_dim).cuda(), 2)))\n",
    "\n",
    "    # Forward pass\n",
    "    def forward(self, hyper_net):\n",
    "        ww = []\n",
    "        h, k = self.z_num\n",
    "        for i in range(h):\n",
    "            w = []\n",
    "            for j in range(k):\n",
    "                w.append(hyper_net(self.z_list[i*k + j]))\n",
    "            ww.append(torch.cat(w, dim=1))\n",
    "        return torch.cat(ww, dim=0)\n",
    "        \n",
    "class PrimaryNetwork(nn.Module):\n",
    "    def __init__(self, input_features, z_dim=64, output_dim=1, dropout=0.6):\n",
    "        super(PrimaryNetwork, self).__init__()\n",
    "        self.input_features = input_features\n",
    "        self.z_dim = z_dim\n",
    "        self.output_dim = output_dim\n",
    "\n",
    "        # Hypernetworks\n",
    "        self.hypernet1 = HyperNetwork(f_size=1, z_dim=self.z_dim, out_size=256, in_size=input_features)\n",
    "        self.hypernet2 = HyperNetwork(f_size=1, z_dim=self.z_dim, out_size=512, in_size=256)\n",
    "\n",
    "        # Embeddings for the hypernetworks\n",
    "        self.embedding1 = Embedding((1, 1), z_dim)  \n",
    "        self.embedding2 = Embedding((1, 1), z_dim)  \n",
    "\n",
    "        # Output layer\n",
    "        self.output_layer = nn.Sequential(\n",
    "            nn.Linear(512, 256),\n",
    "            nn.BatchNorm1d(256),\n",
    "            Mish(),\n",
    "            nn.Dropout(dropout),\n",
    "            nn.Linear(256, 128),\n",
    "            nn.BatchNorm1d(128),\n",
    "            Mish(),\n",
    "            nn.Linear(128, 64),\n",
    "            nn.BatchNorm1d(64),\n",
    "            Mish(),\n",
    "            nn.Linear(64, output_dim)\n",
    "        )\n",
    "\n",
    "        # Other layers\n",
    "        self.activation = Mish()\n",
    "        self.batch_norm1 = nn.BatchNorm1d(256)\n",
    "        self.batch_norm2 = nn.BatchNorm1d(512)\n",
    "        self.dropout = nn.Dropout(dropout)\n",
    "\n",
    "    def forward(self, x):\n",
    "        # Generate weights for the first layer using embedding and hypernetwork\n",
    "        z1 = self.embedding1(self.hypernet1)\n",
    "        generated_weights1 = z1.squeeze().view(256, self.input_features)\n",
    "        x = F.linear(x, generated_weights1)\n",
    "        x = self.batch_norm1(x)\n",
    "        x = self.activation(x)\n",
    "        x = self.dropout(x)\n",
    "\n",
    "        # Generate weights for the second layer using embedding and hypernetwork\n",
    "        z2 = self.embedding2(self.hypernet2)\n",
    "        generated_weights2 = z2.squeeze().view(512, 256)\n",
    "        x = F.linear(x, generated_weights2)\n",
    "        x = self.batch_norm2(x)\n",
    "        x = self.activation(x)\n",
    "        x = self.dropout(x)\n",
    "\n",
    "        # Pass through the output layer\n",
    "        x = self.output_layer(x)\n",
    "        return x"
   ]
  },
  {
   "cell_type": "code",
   "execution_count": null,
   "metadata": {
    "execution": {
     "iopub.execute_input": "2025-01-19T20:31:35.980801Z",
     "iopub.status.busy": "2025-01-19T20:31:35.980479Z",
     "iopub.status.idle": "2025-01-19T20:31:35.997206Z",
     "shell.execute_reply": "2025-01-19T20:31:35.996400Z",
     "shell.execute_reply.started": "2025-01-19T20:31:35.980781Z"
    },
    "trusted": true
   },
   "outputs": [],
   "source": [
    "# Define training \n",
    "def train_epoch(model, device, train_loader, optimizer):\n",
    "    model.train()\n",
    "    for data, target in train_loader:\n",
    "        data, target = data.to(device), target.to(device)\n",
    "        optimizer.zero_grad()\n",
    "        output = model(data)\n",
    "        loss = F.mse_loss(output, target)\n",
    "        loss.backward()\n",
    "        optimizer.step()\n",
    "\n",
    "def test_epoch(model, device, test_loader):\n",
    "    model.eval()\n",
    "    test_loss = 0\n",
    "    all_targets, all_outputs = [], []\n",
    "    with torch.no_grad():\n",
    "        for data, target in test_loader:\n",
    "            data, target = data.to(device), target.to(device)\n",
    "            output = model(data)\n",
    "            test_loss += F.mse_loss(output, target, reduction='sum').item()\n",
    "            all_targets.append(target.cpu().numpy())\n",
    "            all_outputs.append(output.cpu().numpy())\n",
    "    # Calculate the loss and metrics\n",
    "    test_loss /= len(test_loader.dataset)\n",
    "    rmse = np.sqrt(test_loss)\n",
    "    all_targets = np.concatenate(all_targets)\n",
    "    all_outputs = np.concatenate(all_outputs)\n",
    "    r2 = r2_score(all_targets, all_outputs)\n",
    "    return rmse, r2"
   ]
  },
  {
   "cell_type": "code",
   "execution_count": null,
   "metadata": {
    "execution": {
     "iopub.execute_input": "2025-01-19T20:31:35.998229Z",
     "iopub.status.busy": "2025-01-19T20:31:35.998017Z",
     "iopub.status.idle": "2025-01-19T20:31:42.387929Z",
     "shell.execute_reply": "2025-01-19T20:31:42.387185Z",
     "shell.execute_reply.started": "2025-01-19T20:31:35.998210Z"
    },
    "trusted": true
   },
   "outputs": [
    {
     "name": "stderr",
     "output_type": "stream",
     "text": [
      "\u001b[34m\u001b[1mwandb\u001b[0m: Using wandb-core as the SDK backend.  Please refer to https://wandb.me/wandb-core for more information.\n",
      "\u001b[34m\u001b[1mwandb\u001b[0m: Currently logged in as: \u001b[33mfrancescogiannuzzo2002-fg\u001b[0m (\u001b[33mmldlfragian\u001b[0m). Use \u001b[1m`wandb login --relogin`\u001b[0m to force relogin\n",
      "\u001b[34m\u001b[1mwandb\u001b[0m: \u001b[33mWARNING\u001b[0m If you're specifying your api key in code, ensure this code is not shared publicly.\n",
      "\u001b[34m\u001b[1mwandb\u001b[0m: \u001b[33mWARNING\u001b[0m Consider setting the WANDB_API_KEY environment variable, or running `wandb login` from the command line.\n",
      "\u001b[34m\u001b[1mwandb\u001b[0m: Appending key for api.wandb.ai to your netrc file: /root/.netrc\n"
     ]
    }
   ],
   "source": [
    "# Login into wandb\n",
    "wandb.login(key=\"xxx\")\n",
    "os.environ[\"WANDB_SILENT\"] = \"true\""
   ]
  },
  {
   "cell_type": "markdown",
   "metadata": {},
   "source": [
    "Hyperparameters for tuning"
   ]
  },
  {
   "cell_type": "code",
   "execution_count": null,
   "metadata": {
    "execution": {
     "iopub.execute_input": "2025-01-19T17:15:19.602281Z",
     "iopub.status.busy": "2025-01-19T17:15:19.601759Z",
     "iopub.status.idle": "2025-01-19T17:15:19.606140Z",
     "shell.execute_reply": "2025-01-19T17:15:19.605542Z",
     "shell.execute_reply.started": "2025-01-19T17:15:19.602245Z"
    },
    "trusted": true
   },
   "outputs": [],
   "source": [
    "# Sweep configuration hyperparameters\n",
    "sweep_config = {\n",
    "    \"method\": \"grid\",\n",
    "    \"metric\": {\"name\": \"rmse\", \"goal\": \"minimize\"},\n",
    "    \"parameters\": {\n",
    "        \"learning_rate\": {\"values\": [0.001, 0.01]},\n",
    "        \"weight_decay\": {\"values\": [1e-7, 1e-6, 1e-3]},\n",
    "        \"dropout\": {\"values\": [0.4, 0.5, 0.6]},\n",
    "        \"batch_size\": {\"values\": [64, 128, 256]}\n",
    "    },\n",
    "}"
   ]
  },
  {
   "cell_type": "code",
   "execution_count": null,
   "metadata": {
    "execution": {
     "iopub.execute_input": "2025-01-19T17:17:17.467402Z",
     "iopub.status.busy": "2025-01-19T17:17:17.467058Z",
     "iopub.status.idle": "2025-01-19T19:30:41.861235Z",
     "shell.execute_reply": "2025-01-19T19:30:41.860567Z",
     "shell.execute_reply.started": "2025-01-19T17:17:17.467374Z"
    },
    "trusted": true
   },
   "outputs": [
    {
     "name": "stderr",
     "output_type": "stream",
     "text": [
      "\u001b[34m\u001b[1mwandb\u001b[0m: Agent Starting Run: eb21cj1p with config:\n",
      "\u001b[34m\u001b[1mwandb\u001b[0m: \tbatch_size: 64\n",
      "\u001b[34m\u001b[1mwandb\u001b[0m: \tdropout: 0.4\n",
      "\u001b[34m\u001b[1mwandb\u001b[0m: \tlearning_rate: 0.001\n",
      "\u001b[34m\u001b[1mwandb\u001b[0m: \tweight_decay: 1e-07\n"
     ]
    },
    {
     "data": {
      "text/html": [],
      "text/plain": [
       "<IPython.core.display.HTML object>"
      ]
     },
     "metadata": {},
     "output_type": "display_data"
    },
    {
     "data": {
      "text/html": [],
      "text/plain": [
       "<IPython.core.display.HTML object>"
      ]
     },
     "metadata": {},
     "output_type": "display_data"
    },
    {
     "data": {
      "text/html": [],
      "text/plain": [
       "<IPython.core.display.HTML object>"
      ]
     },
     "metadata": {},
     "output_type": "display_data"
    },
    {
     "data": {
      "text/html": [],
      "text/plain": [
       "<IPython.core.display.HTML object>"
      ]
     },
     "metadata": {},
     "output_type": "display_data"
    },
    {
     "data": {
      "text/html": [],
      "text/plain": [
       "<IPython.core.display.HTML object>"
      ]
     },
     "metadata": {},
     "output_type": "display_data"
    },
    {
     "data": {
      "text/html": [],
      "text/plain": [
       "<IPython.core.display.HTML object>"
      ]
     },
     "metadata": {},
     "output_type": "display_data"
    },
    {
     "data": {
      "text/html": [],
      "text/plain": [
       "<IPython.core.display.HTML object>"
      ]
     },
     "metadata": {},
     "output_type": "display_data"
    },
    {
     "data": {
      "text/html": [],
      "text/plain": [
       "<IPython.core.display.HTML object>"
      ]
     },
     "metadata": {},
     "output_type": "display_data"
    },
    {
     "data": {
      "text/html": [],
      "text/plain": [
       "<IPython.core.display.HTML object>"
      ]
     },
     "metadata": {},
     "output_type": "display_data"
    },
    {
     "data": {
      "text/html": [],
      "text/plain": [
       "<IPython.core.display.HTML object>"
      ]
     },
     "metadata": {},
     "output_type": "display_data"
    },
    {
     "data": {
      "text/html": [],
      "text/plain": [
       "<IPython.core.display.HTML object>"
      ]
     },
     "metadata": {},
     "output_type": "display_data"
    },
    {
     "data": {
      "text/html": [],
      "text/plain": [
       "<IPython.core.display.HTML object>"
      ]
     },
     "metadata": {},
     "output_type": "display_data"
    },
    {
     "data": {
      "text/html": [],
      "text/plain": [
       "<IPython.core.display.HTML object>"
      ]
     },
     "metadata": {},
     "output_type": "display_data"
    },
    {
     "data": {
      "text/html": [],
      "text/plain": [
       "<IPython.core.display.HTML object>"
      ]
     },
     "metadata": {},
     "output_type": "display_data"
    },
    {
     "data": {
      "text/html": [],
      "text/plain": [
       "<IPython.core.display.HTML object>"
      ]
     },
     "metadata": {},
     "output_type": "display_data"
    },
    {
     "data": {
      "text/html": [],
      "text/plain": [
       "<IPython.core.display.HTML object>"
      ]
     },
     "metadata": {},
     "output_type": "display_data"
    },
    {
     "data": {
      "text/html": [],
      "text/plain": [
       "<IPython.core.display.HTML object>"
      ]
     },
     "metadata": {},
     "output_type": "display_data"
    },
    {
     "data": {
      "text/html": [],
      "text/plain": [
       "<IPython.core.display.HTML object>"
      ]
     },
     "metadata": {},
     "output_type": "display_data"
    },
    {
     "data": {
      "text/html": [],
      "text/plain": [
       "<IPython.core.display.HTML object>"
      ]
     },
     "metadata": {},
     "output_type": "display_data"
    },
    {
     "data": {
      "text/html": [],
      "text/plain": [
       "<IPython.core.display.HTML object>"
      ]
     },
     "metadata": {},
     "output_type": "display_data"
    },
    {
     "data": {
      "text/html": [],
      "text/plain": [
       "<IPython.core.display.HTML object>"
      ]
     },
     "metadata": {},
     "output_type": "display_data"
    },
    {
     "data": {
      "text/html": [],
      "text/plain": [
       "<IPython.core.display.HTML object>"
      ]
     },
     "metadata": {},
     "output_type": "display_data"
    },
    {
     "data": {
      "text/html": [],
      "text/plain": [
       "<IPython.core.display.HTML object>"
      ]
     },
     "metadata": {},
     "output_type": "display_data"
    },
    {
     "data": {
      "text/html": [],
      "text/plain": [
       "<IPython.core.display.HTML object>"
      ]
     },
     "metadata": {},
     "output_type": "display_data"
    },
    {
     "data": {
      "text/html": [],
      "text/plain": [
       "<IPython.core.display.HTML object>"
      ]
     },
     "metadata": {},
     "output_type": "display_data"
    },
    {
     "data": {
      "text/html": [],
      "text/plain": [
       "<IPython.core.display.HTML object>"
      ]
     },
     "metadata": {},
     "output_type": "display_data"
    },
    {
     "data": {
      "text/html": [],
      "text/plain": [
       "<IPython.core.display.HTML object>"
      ]
     },
     "metadata": {},
     "output_type": "display_data"
    },
    {
     "data": {
      "text/html": [],
      "text/plain": [
       "<IPython.core.display.HTML object>"
      ]
     },
     "metadata": {},
     "output_type": "display_data"
    },
    {
     "data": {
      "text/html": [],
      "text/plain": [
       "<IPython.core.display.HTML object>"
      ]
     },
     "metadata": {},
     "output_type": "display_data"
    },
    {
     "data": {
      "text/html": [],
      "text/plain": [
       "<IPython.core.display.HTML object>"
      ]
     },
     "metadata": {},
     "output_type": "display_data"
    },
    {
     "data": {
      "text/html": [],
      "text/plain": [
       "<IPython.core.display.HTML object>"
      ]
     },
     "metadata": {},
     "output_type": "display_data"
    },
    {
     "data": {
      "text/html": [],
      "text/plain": [
       "<IPython.core.display.HTML object>"
      ]
     },
     "metadata": {},
     "output_type": "display_data"
    },
    {
     "data": {
      "text/html": [],
      "text/plain": [
       "<IPython.core.display.HTML object>"
      ]
     },
     "metadata": {},
     "output_type": "display_data"
    },
    {
     "data": {
      "text/html": [],
      "text/plain": [
       "<IPython.core.display.HTML object>"
      ]
     },
     "metadata": {},
     "output_type": "display_data"
    },
    {
     "data": {
      "text/html": [],
      "text/plain": [
       "<IPython.core.display.HTML object>"
      ]
     },
     "metadata": {},
     "output_type": "display_data"
    },
    {
     "data": {
      "text/html": [],
      "text/plain": [
       "<IPython.core.display.HTML object>"
      ]
     },
     "metadata": {},
     "output_type": "display_data"
    },
    {
     "data": {
      "text/html": [],
      "text/plain": [
       "<IPython.core.display.HTML object>"
      ]
     },
     "metadata": {},
     "output_type": "display_data"
    },
    {
     "data": {
      "text/html": [],
      "text/plain": [
       "<IPython.core.display.HTML object>"
      ]
     },
     "metadata": {},
     "output_type": "display_data"
    },
    {
     "data": {
      "text/html": [],
      "text/plain": [
       "<IPython.core.display.HTML object>"
      ]
     },
     "metadata": {},
     "output_type": "display_data"
    },
    {
     "data": {
      "text/html": [],
      "text/plain": [
       "<IPython.core.display.HTML object>"
      ]
     },
     "metadata": {},
     "output_type": "display_data"
    },
    {
     "data": {
      "text/html": [],
      "text/plain": [
       "<IPython.core.display.HTML object>"
      ]
     },
     "metadata": {},
     "output_type": "display_data"
    },
    {
     "data": {
      "text/html": [],
      "text/plain": [
       "<IPython.core.display.HTML object>"
      ]
     },
     "metadata": {},
     "output_type": "display_data"
    },
    {
     "data": {
      "text/html": [],
      "text/plain": [
       "<IPython.core.display.HTML object>"
      ]
     },
     "metadata": {},
     "output_type": "display_data"
    },
    {
     "data": {
      "text/html": [],
      "text/plain": [
       "<IPython.core.display.HTML object>"
      ]
     },
     "metadata": {},
     "output_type": "display_data"
    },
    {
     "data": {
      "text/html": [],
      "text/plain": [
       "<IPython.core.display.HTML object>"
      ]
     },
     "metadata": {},
     "output_type": "display_data"
    },
    {
     "data": {
      "text/html": [],
      "text/plain": [
       "<IPython.core.display.HTML object>"
      ]
     },
     "metadata": {},
     "output_type": "display_data"
    },
    {
     "data": {
      "text/html": [],
      "text/plain": [
       "<IPython.core.display.HTML object>"
      ]
     },
     "metadata": {},
     "output_type": "display_data"
    },
    {
     "data": {
      "text/html": [],
      "text/plain": [
       "<IPython.core.display.HTML object>"
      ]
     },
     "metadata": {},
     "output_type": "display_data"
    },
    {
     "data": {
      "text/html": [],
      "text/plain": [
       "<IPython.core.display.HTML object>"
      ]
     },
     "metadata": {},
     "output_type": "display_data"
    },
    {
     "data": {
      "text/html": [],
      "text/plain": [
       "<IPython.core.display.HTML object>"
      ]
     },
     "metadata": {},
     "output_type": "display_data"
    },
    {
     "data": {
      "text/html": [],
      "text/plain": [
       "<IPython.core.display.HTML object>"
      ]
     },
     "metadata": {},
     "output_type": "display_data"
    },
    {
     "data": {
      "text/html": [],
      "text/plain": [
       "<IPython.core.display.HTML object>"
      ]
     },
     "metadata": {},
     "output_type": "display_data"
    },
    {
     "data": {
      "text/html": [],
      "text/plain": [
       "<IPython.core.display.HTML object>"
      ]
     },
     "metadata": {},
     "output_type": "display_data"
    },
    {
     "data": {
      "text/html": [],
      "text/plain": [
       "<IPython.core.display.HTML object>"
      ]
     },
     "metadata": {},
     "output_type": "display_data"
    }
   ],
   "source": [
    "# Initialize the sweep\n",
    "sweep_id = wandb.sweep(sweep_config, project=\"grid_tuning_h_MALIS_f\")\n",
    "results = []\n",
    "\n",
    "def train_sweep(config=None):\n",
    "        wandb.init(project=\"grid_search_tuning_h_MALIS_f\")\n",
    "        config = wandb.config\n",
    "        # Create the data loaders\n",
    "        train_loader = DataLoader(train_data, batch_size=config.batch_size, shuffle=True)\n",
    "        test_loader = DataLoader(test_data, batch_size=config.batch_size, shuffle=False)\n",
    "        # Create the model and optimizer\n",
    "        model = PrimaryNetwork(input_features=X_train.shape[1], z_dim=X_train.shape[1], output_dim=1, dropout = config.dropout).to(device)\n",
    "        optimizer = optim.RMSprop(model.parameters(), lr=config.learning_rate, weight_decay=config.weight_decay, alpha=0.9, eps=1e-16)\n",
    "\n",
    "        for epoch in range(1, 501):\n",
    "            train_epoch(model, device, train_loader, optimizer)\n",
    "            \n",
    "        rmse, r2 = test_epoch(model, device, test_loader)\n",
    "        wandb.log({\"rmse\": rmse, \"r2\": r2})\n",
    "        # Save the results\n",
    "        results.append({\n",
    "            \"rmse\": rmse,\n",
    "            \"r2\": r2,\n",
    "            \"config\": {\n",
    "                \"learning_rate\": config.learning_rate,\n",
    "                \"weight_decay\": config.weight_decay,\n",
    "                \"dropout\": config.dropout,\n",
    "                \"batch_size\": config.batch_size,\n",
    "            },\n",
    "        })\n",
    "\n",
    "wandb.agent(sweep_id, function=train_sweep)\n",
    "wandb.finish()"
   ]
  },
  {
   "cell_type": "code",
   "execution_count": null,
   "metadata": {},
   "outputs": [
    {
     "name": "stdout",
     "output_type": "stream",
     "text": [
      "Top 5:\n",
      "Rank 1: RMSE=97.50132495068956,R2=0.755596867669451, Config={'learning_rate': 0.001, 'weight_decay': 1e-06, 'dropout': 0.4, 'batch_size': 128}\n",
      "Rank 2: RMSE=97.5669556294437,R2=0.7552677303550801, Config={'learning_rate': 0.001, 'weight_decay': 1e-07, 'dropout': 0.5, 'batch_size': 128}\n",
      "Rank 3: RMSE=97.8157394386255,R2=0.7540180694612296, Config={'learning_rate': 0.01, 'weight_decay': 1e-07, 'dropout': 0.5, 'batch_size': 64}\n",
      "Rank 4: RMSE=98.15831696457059,R2=0.7522920574605144, Config={'learning_rate': 0.001, 'weight_decay': 1e-07, 'dropout': 0.4, 'batch_size': 256}\n",
      "Rank 5: RMSE=98.34853368037119,R2=0.7513310854949058, Config={'learning_rate': 0.001, 'weight_decay': 1e-07, 'dropout': 0.6, 'batch_size': 256}\n"
     ]
    }
   ],
   "source": [
    "# Sort the results\n",
    "results = sorted(results, key=lambda x: x[\"rmse\"])\n",
    "print(\"Top 5:\")\n",
    "for i, res in enumerate(results[:5]):\n",
    "    print(f\"Rank {i+1}: RMSE={res['rmse']},R2={res['r2']}, Config={res['config']}\")"
   ]
  },
  {
   "cell_type": "code",
   "execution_count": null,
   "metadata": {},
   "outputs": [
    {
     "data": {
      "text/html": [
       "Changes to your `wandb` environment variables will be ignored because your `wandb` session has already started. For more information on how to modify your settings with `wandb.init()` arguments, please refer to <a href='https://wandb.me/wandb-init' target=\"_blank\">the W&B docs</a>."
      ],
      "text/plain": [
       "<IPython.core.display.HTML object>"
      ]
     },
     "metadata": {},
     "output_type": "display_data"
    },
    {
     "name": "stdout",
     "output_type": "stream",
     "text": [
      "Retraining configuration 1 for 3000 epochs: {'learning_rate': 0.001, 'weight_decay': 1e-06, 'dropout': 0.4, 'batch_size': 128}\n",
      "Epoch 500: RMSE=101.1098, Best RMSE=97.7130\n",
      "Epoch 1000: RMSE=103.4338, Best RMSE=97.7130\n",
      "Epoch 1500: RMSE=103.7526, Best RMSE=97.7130\n",
      "Epoch 2000: RMSE=105.4699, Best RMSE=97.7130\n",
      "Epoch 2500: RMSE=102.1510, Best RMSE=97.7130\n",
      "Epoch 3000: RMSE=102.5139, Best RMSE=97.7130\n"
     ]
    },
    {
     "data": {
      "text/html": [],
      "text/plain": [
       "<IPython.core.display.HTML object>"
      ]
     },
     "metadata": {},
     "output_type": "display_data"
    },
    {
     "data": {
      "text/html": [
       "Changes to your `wandb` environment variables will be ignored because your `wandb` session has already started. For more information on how to modify your settings with `wandb.init()` arguments, please refer to <a href='https://wandb.me/wandb-init' target=\"_blank\">the W&B docs</a>."
      ],
      "text/plain": [
       "<IPython.core.display.HTML object>"
      ]
     },
     "metadata": {},
     "output_type": "display_data"
    },
    {
     "name": "stdout",
     "output_type": "stream",
     "text": [
      "Retraining configuration 2 for 3000 epochs: {'learning_rate': 0.001, 'weight_decay': 1e-07, 'dropout': 0.5, 'batch_size': 128}\n",
      "Epoch 500: RMSE=98.8612, Best RMSE=97.6722\n",
      "Epoch 1000: RMSE=101.5494, Best RMSE=96.2735\n",
      "Epoch 1500: RMSE=100.6393, Best RMSE=96.2735\n",
      "Epoch 2000: RMSE=99.8567, Best RMSE=96.2735\n",
      "Epoch 2500: RMSE=101.6593, Best RMSE=96.2735\n",
      "Epoch 3000: RMSE=100.3760, Best RMSE=96.2735\n"
     ]
    },
    {
     "data": {
      "text/html": [],
      "text/plain": [
       "<IPython.core.display.HTML object>"
      ]
     },
     "metadata": {},
     "output_type": "display_data"
    },
    {
     "data": {
      "text/html": [
       "Changes to your `wandb` environment variables will be ignored because your `wandb` session has already started. For more information on how to modify your settings with `wandb.init()` arguments, please refer to <a href='https://wandb.me/wandb-init' target=\"_blank\">the W&B docs</a>."
      ],
      "text/plain": [
       "<IPython.core.display.HTML object>"
      ]
     },
     "metadata": {},
     "output_type": "display_data"
    },
    {
     "name": "stdout",
     "output_type": "stream",
     "text": [
      "Retraining configuration 3 for 3000 epochs: {'learning_rate': 0.01, 'weight_decay': 1e-07, 'dropout': 0.5, 'batch_size': 64}\n",
      "Epoch 500: RMSE=100.7804, Best RMSE=96.2578\n",
      "Epoch 1000: RMSE=103.4216, Best RMSE=96.0764\n",
      "Epoch 1500: RMSE=102.0489, Best RMSE=96.0764\n",
      "Epoch 2000: RMSE=102.8755, Best RMSE=96.0764\n",
      "Epoch 2500: RMSE=103.3083, Best RMSE=96.0764\n",
      "Epoch 3000: RMSE=101.0357, Best RMSE=96.0764\n"
     ]
    },
    {
     "data": {
      "text/html": [],
      "text/plain": [
       "<IPython.core.display.HTML object>"
      ]
     },
     "metadata": {},
     "output_type": "display_data"
    },
    {
     "data": {
      "text/html": [
       "Changes to your `wandb` environment variables will be ignored because your `wandb` session has already started. For more information on how to modify your settings with `wandb.init()` arguments, please refer to <a href='https://wandb.me/wandb-init' target=\"_blank\">the W&B docs</a>."
      ],
      "text/plain": [
       "<IPython.core.display.HTML object>"
      ]
     },
     "metadata": {},
     "output_type": "display_data"
    },
    {
     "name": "stdout",
     "output_type": "stream",
     "text": [
      "Retraining configuration 4 for 3000 epochs: {'learning_rate': 0.001, 'weight_decay': 1e-07, 'dropout': 0.4, 'batch_size': 256}\n",
      "Epoch 500: RMSE=98.9728, Best RMSE=97.7416\n",
      "Epoch 1000: RMSE=98.8732, Best RMSE=96.5584\n",
      "Epoch 1500: RMSE=98.7185, Best RMSE=96.1015\n",
      "Epoch 2000: RMSE=99.2445, Best RMSE=96.1015\n",
      "Epoch 2500: RMSE=98.0827, Best RMSE=96.1015\n",
      "Epoch 3000: RMSE=101.7492, Best RMSE=96.1015\n"
     ]
    },
    {
     "data": {
      "text/html": [],
      "text/plain": [
       "<IPython.core.display.HTML object>"
      ]
     },
     "metadata": {},
     "output_type": "display_data"
    },
    {
     "data": {
      "text/html": [
       "Changes to your `wandb` environment variables will be ignored because your `wandb` session has already started. For more information on how to modify your settings with `wandb.init()` arguments, please refer to <a href='https://wandb.me/wandb-init' target=\"_blank\">the W&B docs</a>."
      ],
      "text/plain": [
       "<IPython.core.display.HTML object>"
      ]
     },
     "metadata": {},
     "output_type": "display_data"
    },
    {
     "name": "stdout",
     "output_type": "stream",
     "text": [
      "Retraining configuration 5 for 3000 epochs: {'learning_rate': 0.001, 'weight_decay': 1e-07, 'dropout': 0.6, 'batch_size': 256}\n",
      "Epoch 500: RMSE=102.4346, Best RMSE=100.2917\n",
      "Epoch 1000: RMSE=102.8862, Best RMSE=99.3349\n",
      "Epoch 1500: RMSE=102.6182, Best RMSE=98.5931\n",
      "Epoch 2000: RMSE=102.5645, Best RMSE=98.2791\n",
      "Epoch 2500: RMSE=99.0138, Best RMSE=97.6974\n",
      "Epoch 3000: RMSE=100.8779, Best RMSE=96.7540\n"
     ]
    },
    {
     "data": {
      "text/html": [],
      "text/plain": [
       "<IPython.core.display.HTML object>"
      ]
     },
     "metadata": {},
     "output_type": "display_data"
    },
    {
     "name": "stdout",
     "output_type": "stream",
     "text": [
      "\n",
      "Best configuration after retraining:\n",
      "RMSE=96.07640015470915, R2=0.7626882875010563, Config={'learning_rate': 0.01, 'weight_decay': 1e-07, 'dropout': 0.5, 'batch_size': 64}\n"
     ]
    }
   ],
   "source": [
    "best_results = []\n",
    "# Retrain the top 5 configurations for 3000 epochs\n",
    "for i, best_config in enumerate(results[:5]):\n",
    "    wandb.init(project=\"hypernetwork_h_best_regression_final\", name=f\"config_{i+1}\", settings=wandb.Settings(silent=\"true\"))\n",
    "    print(f\"Retraining configuration {i + 1} for 3000 epochs: {best_config['config']}\")\n",
    "    config = best_config[\"config\"]\n",
    "    # Create the data loaders   \n",
    "    train_loader = DataLoader(train_data, batch_size=config[\"batch_size\"], shuffle=True)\n",
    "    test_loader = DataLoader(test_data, batch_size=config[\"batch_size\"], shuffle=False)\n",
    "    # Create the model\n",
    "    model = PrimaryNetwork(input_features=X_train.shape[1],z_dim=X_train.shape[1],output_dim=1,dropout=config[\"dropout\"]).to(device)\n",
    "    # Create the optimizer\n",
    "    optimizer = optim.RMSprop(model.parameters(),lr=config[\"learning_rate\"],weight_decay=config[\"weight_decay\"],alpha=0.9,eps=1e-16,)\n",
    "    best_rmse = float(\"inf\")\n",
    "    best_r2 = 0\n",
    "    # Train the model\n",
    "    for epoch in range(1, 3001):\n",
    "        train_epoch(model, device, train_loader, optimizer)\n",
    "        rmse, r2 = test_epoch(model, device, train_loader)\n",
    "        if epoch % 50 == 0: wandb.log({\"epoch\": epoch, \"train_rmse\": rmse, \"train_r2\": r2})\n",
    "        rmse, r2 = test_epoch(model, device, test_loader)\n",
    "        if epoch % 50 == 0: wandb.log({\"epoch\": epoch, \"test_rmse\": rmse, \"test_r2\": r2})\n",
    "        if rmse < best_rmse:\n",
    "            best_rmse = rmse\n",
    "            best_r2 = r2\n",
    "\n",
    "        if epoch % 500 == 0:\n",
    "            print(f\"Epoch {epoch}: RMSE={rmse:.4f}, Best RMSE={best_rmse:.4f}\")\n",
    "    # Save the best results\n",
    "    best_results.append({\n",
    "        \"best_rmse\": best_rmse,\n",
    "        \"best_r2\": best_r2,\n",
    "        \"config\": config,\n",
    "    })\n",
    "    wandb.finish()\n",
    "# Sort the best results\n",
    "best_results = sorted(best_results, key=lambda x: x[\"best_rmse\"])\n",
    "print(\"\\nBest configuration after retraining:\")\n",
    "print(f\"RMSE={best_results[0]['best_rmse']}, R2={best_results[0]['best_r2']}, Config={best_results[0]['config']}\")"
   ]
  }
 ],
 "metadata": {
  "kaggle": {
   "accelerator": "nvidiaTeslaT4",
   "dataSources": [
    {
     "datasetId": 6390534,
     "sourceId": 10321571,
     "sourceType": "datasetVersion"
    },
    {
     "datasetId": 6390977,
     "sourceId": 10322193,
     "sourceType": "datasetVersion"
    },
    {
     "datasetId": 6445087,
     "sourceId": 10401558,
     "sourceType": "datasetVersion"
    }
   ],
   "dockerImageVersionId": 30840,
   "isGpuEnabled": true,
   "isInternetEnabled": true,
   "language": "python",
   "sourceType": "notebook"
  },
  "kernelspec": {
   "display_name": ".venv",
   "language": "python",
   "name": "python3"
  },
  "language_info": {
   "codemirror_mode": {
    "name": "ipython",
    "version": 3
   },
   "file_extension": ".py",
   "mimetype": "text/x-python",
   "name": "python",
   "nbconvert_exporter": "python",
   "pygments_lexer": "ipython3",
   "version": "3.12.0"
  }
 },
 "nbformat": 4,
 "nbformat_minor": 4
}
