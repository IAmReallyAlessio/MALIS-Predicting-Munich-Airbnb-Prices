{
 "cells": [
  {
   "cell_type": "code",
   "execution_count": null,
   "metadata": {
    "execution": {
     "iopub.execute_input": "2025-01-19T20:21:02.408935Z",
     "iopub.status.busy": "2025-01-19T20:21:02.408627Z",
     "iopub.status.idle": "2025-01-19T20:21:02.744236Z",
     "shell.execute_reply": "2025-01-19T20:21:02.743124Z",
     "shell.execute_reply.started": "2025-01-19T20:21:02.408908Z"
    },
    "trusted": true
   },
   "outputs": [],
   "source": [
    "import os\n",
    "import copy\n",
    "import itertools\n",
    "import numpy as np\n",
    "import pandas as pd\n",
    "import torch\n",
    "import torch.nn as nn\n",
    "import torch.nn.functional as F\n",
    "import torch.optim as optim\n",
    "from torch.utils.data import DataLoader, TensorDataset\n",
    "from torch.nn.parameter import Parameter\n",
    "from sklearn.model_selection import ParameterGrid, train_test_split\n",
    "from sklearn.preprocessing import StandardScaler\n",
    "from sklearn.metrics import r2_score\n",
    "from sklearn.ensemble import RandomForestRegressor\n",
    "from sklearn.feature_selection import SelectFromModel\n",
    "from torch.nn import Mish\n",
    "import wandb"
   ]
  },
  {
   "cell_type": "code",
   "execution_count": null,
   "metadata": {
    "execution": {
     "iopub.execute_input": "2025-01-19T20:21:02.745939Z",
     "iopub.status.busy": "2025-01-19T20:21:02.745478Z",
     "iopub.status.idle": "2025-01-19T20:21:03.283492Z",
     "shell.execute_reply": "2025-01-19T20:21:03.282630Z",
     "shell.execute_reply.started": "2025-01-19T20:21:02.745911Z"
    },
    "trusted": true
   },
   "outputs": [
    {
     "name": "stdout",
     "output_type": "stream",
     "text": [
      "<class 'pandas.core.frame.DataFrame'>\n",
      "RangeIndex: 7391 entries, 0 to 7390\n",
      "Data columns (total 80 columns):\n",
      " #   Column                                                                         Non-Null Count  Dtype  \n",
      "---  ------                                                                         --------------  -----  \n",
      " 0   host_is_superhost                                                              7391 non-null   float64\n",
      " 1   host_listings_count                                                            7391 non-null   float64\n",
      " 2   host_identity_verified                                                         7391 non-null   int64  \n",
      " 3   latitude                                                                       7391 non-null   float64\n",
      " 4   longitude                                                                      7391 non-null   float64\n",
      " 5   accommodates                                                                   7391 non-null   float64\n",
      " 6   bedrooms                                                                       7391 non-null   float64\n",
      " 7   beds                                                                           7391 non-null   float64\n",
      " 8   price                                                                          7391 non-null   float64\n",
      " 9   minimum_nights                                                                 7391 non-null   float64\n",
      " 10  maximum_nights                                                                 7391 non-null   float64\n",
      " 11  has_availability                                                               7391 non-null   int64  \n",
      " 12  availability_30                                                                7391 non-null   float64\n",
      " 13  availability_60                                                                7391 non-null   float64\n",
      " 14  availability_90                                                                7391 non-null   float64\n",
      " 15  availability_365                                                               7391 non-null   float64\n",
      " 16  number_of_reviews                                                              7391 non-null   float64\n",
      " 17  number_of_reviews_ltm                                                          7391 non-null   bool   \n",
      " 18  number_of_reviews_l30d                                                         7391 non-null   bool   \n",
      " 19  instant_bookable                                                               7391 non-null   int64  \n",
      " 20  calculated_host_listings_count                                                 7391 non-null   float64\n",
      " 21  reviews_per_month                                                              7391 non-null   float64\n",
      " 22  num_bathrooms                                                                  7391 non-null   float64\n",
      " 23  has_wifi                                                                       7391 non-null   int64  \n",
      " 24  has_pool                                                                       7391 non-null   int64  \n",
      " 25  has_gym                                                                        7391 non-null   int64  \n",
      " 26  has_bluetooth                                                                  7391 non-null   int64  \n",
      " 27  has_refrigerator                                                               7391 non-null   int64  \n",
      " 28  has_stove                                                                      7391 non-null   int64  \n",
      " 29  has_oven                                                                       7391 non-null   int64  \n",
      " 30  has_TV                                                                         7391 non-null   int64  \n",
      " 31  has_grill                                                                      7391 non-null   int64  \n",
      " 32  has_parking                                                                    7391 non-null   int64  \n",
      " 33  has_garage                                                                     7391 non-null   int64  \n",
      " 34  has_kitchen                                                                    7391 non-null   int64  \n",
      " 35  has_fireplace                                                                  7391 non-null   int64  \n",
      " 36  has_housekeeping                                                               7391 non-null   int64  \n",
      " 37  has_console                                                                    7391 non-null   int64  \n",
      " 38  has_exercise                                                                   7391 non-null   int64  \n",
      " 39  has_coffee_maker                                                               7391 non-null   int64  \n",
      " 40  has_clothing_storage                                                           7391 non-null   int64  \n",
      " 41  review_scores_mean                                                             7391 non-null   float64\n",
      " 42  neighbourhood_cleansed_Altstadt-Lehel                                          7391 non-null   bool   \n",
      " 43  neighbourhood_cleansed_Au-Haidhausen                                           7391 non-null   bool   \n",
      " 44  neighbourhood_cleansed_Aubing-Lochhausen-Langwied                              7391 non-null   bool   \n",
      " 45  neighbourhood_cleansed_Berg am Laim                                            7391 non-null   bool   \n",
      " 46  neighbourhood_cleansed_Bogenhausen                                             7391 non-null   bool   \n",
      " 47  neighbourhood_cleansed_Feldmoching-Hasenbergl                                  7391 non-null   bool   \n",
      " 48  neighbourhood_cleansed_Hadern                                                  7391 non-null   bool   \n",
      " 49  neighbourhood_cleansed_Laim                                                    7391 non-null   bool   \n",
      " 50  neighbourhood_cleansed_Ludwigsvorstadt-Isarvorstadt                            7391 non-null   bool   \n",
      " 51  neighbourhood_cleansed_Maxvorstadt                                             7391 non-null   bool   \n",
      " 52  neighbourhood_cleansed_Milbertshofen-Am Hart                                   7391 non-null   bool   \n",
      " 53  neighbourhood_cleansed_Moosach                                                 7391 non-null   bool   \n",
      " 54  neighbourhood_cleansed_Neuhausen-Nymphenburg                                   7391 non-null   bool   \n",
      " 55  neighbourhood_cleansed_Obergiesing                                             7391 non-null   bool   \n",
      " 56  neighbourhood_cleansed_Pasing-Obermenzing                                      7391 non-null   bool   \n",
      " 57  neighbourhood_cleansed_Ramersdorf-Perlach                                      7391 non-null   bool   \n",
      " 58  neighbourhood_cleansed_Schwabing-Freimann                                      7391 non-null   bool   \n",
      " 59  neighbourhood_cleansed_Schwabing-West                                          7391 non-null   bool   \n",
      " 60  neighbourhood_cleansed_Schwanthalerhöhe                                        7391 non-null   bool   \n",
      " 61  neighbourhood_cleansed_Sendling                                                7391 non-null   bool   \n",
      " 62  neighbourhood_cleansed_Sendling-Westpark                                       7391 non-null   bool   \n",
      " 63  neighbourhood_cleansed_Thalkirchen-Obersendling-Forstenried-Fürstenried-Solln  7391 non-null   bool   \n",
      " 64  neighbourhood_cleansed_Tudering-Riem                                           7391 non-null   bool   \n",
      " 65  neighbourhood_cleansed_Untergiesing-Harlaching                                 7391 non-null   bool   \n",
      " 66  property_type_Entire home                                                      7391 non-null   bool   \n",
      " 67  property_type_Entire loft                                                      7391 non-null   bool   \n",
      " 68  property_type_Entire rental unit                                               7391 non-null   bool   \n",
      " 69  property_type_Entire serviced apartment                                        7391 non-null   bool   \n",
      " 70  property_type_Private room in condo                                            7391 non-null   bool   \n",
      " 71  property_type_Private room in home                                             7391 non-null   bool   \n",
      " 72  property_type_Private room in rental unit                                      7391 non-null   bool   \n",
      " 73  property_type_Private room in townhouse                                        7391 non-null   bool   \n",
      " 74  property_type_Room in boutique hotel                                           7391 non-null   bool   \n",
      " 75  property_type_Room in hotel                                                    7391 non-null   bool   \n",
      " 76  property_type_Shared room in rental unit                                       7391 non-null   bool   \n",
      " 77  type_bathroom_private                                                          7391 non-null   bool   \n",
      " 78  type_bathroom_shared                                                           7391 non-null   bool   \n",
      " 79  type_bathroom_shared baths                                                     7391 non-null   bool   \n",
      "dtypes: bool(40), float64(19), int64(21)\n",
      "memory usage: 2.5 MB\n",
      "None\n"
     ]
    }
   ],
   "source": [
    "# Load data\n",
    "listing_path = 'listings_clean.csv'\n",
    "listing_data = pd.read_csv(listing_path)\n",
    "print(listing_data.info())"
   ]
  },
  {
   "cell_type": "code",
   "execution_count": null,
   "metadata": {
    "execution": {
     "iopub.execute_input": "2025-01-19T20:21:10.406025Z",
     "iopub.status.busy": "2025-01-19T20:21:10.405657Z",
     "iopub.status.idle": "2025-01-19T20:21:27.203259Z",
     "shell.execute_reply": "2025-01-19T20:21:27.202407Z",
     "shell.execute_reply.started": "2025-01-19T20:21:10.405997Z"
    },
    "trusted": true
   },
   "outputs": [],
   "source": [
    "# Set device\n",
    "device = torch.device(\"cuda\" if torch.cuda.is_available() else \"cpu\")\n",
    "\n",
    "\n",
    "X = listing_data.drop(columns=['price']).values\n",
    "y = listing_data['price'].values\n",
    "\n",
    "# Feature selection\n",
    "rf = RandomForestRegressor(random_state=42, n_estimators=100)\n",
    "rf.fit(X, y)\n",
    "sfm = SelectFromModel(rf, threshold=0.002, prefit=True)\n",
    "X_important = sfm.transform(X)\n",
    "\n",
    "# Split data\n",
    "X_train, X_test, y_train, y_test = train_test_split(X_important, y, test_size=0.2, random_state=42)\n",
    "\n",
    "# Standardize data\n",
    "scaler = StandardScaler()\n",
    "X_train = scaler.fit_transform(X_train)\n",
    "X_test = scaler.transform(X_test)\n",
    "\n",
    "# Convert to tensors\n",
    "X_train_tensor = torch.tensor(X_train, dtype=torch.float32).to(device)\n",
    "y_train_tensor = torch.tensor(y_train, dtype=torch.float32).unsqueeze(1).to(device)\n",
    "X_test_tensor = torch.tensor(X_test, dtype=torch.float32).to(device)\n",
    "y_test_tensor = torch.tensor(y_test, dtype=torch.float32).unsqueeze(1).to(device)\n",
    "\n",
    "# Create datasets\n",
    "train_data = TensorDataset(X_train_tensor, y_train_tensor)\n",
    "test_data = TensorDataset(X_test_tensor, y_test_tensor)"
   ]
  },
  {
   "cell_type": "code",
   "execution_count": null,
   "metadata": {
    "execution": {
     "iopub.execute_input": "2025-01-19T20:21:27.207182Z",
     "iopub.status.busy": "2025-01-19T20:21:27.206591Z",
     "iopub.status.idle": "2025-01-19T20:21:27.215377Z",
     "shell.execute_reply": "2025-01-19T20:21:27.214582Z",
     "shell.execute_reply.started": "2025-01-19T20:21:27.207157Z"
    },
    "trusted": true
   },
   "outputs": [],
   "source": [
    "# Set device\n",
    "device = torch.device(\"cuda\" if torch.cuda.is_available() else \"cpu\")\n",
    "\n",
    "input_features = X_train.shape[1]\n",
    "output_dim = 1\n",
    "\n",
    "# Define neural network\n",
    "class Net(nn.Module):\n",
    "    def __init__(self, input_features, dropout=0.6):\n",
    "        super(Net, self).__init__()\n",
    "        self.x_dim = input_features\n",
    "        self.z_dim = 256\n",
    "\n",
    "        self.main_net = nn.Sequential(\n",
    "            nn.Linear(self.x_dim, self.z_dim),\n",
    "            nn.BatchNorm1d(self.z_dim),\n",
    "            Mish(),\n",
    "            nn.Dropout(dropout),\n",
    "            nn.Linear(self.z_dim, 256),\n",
    "            nn.BatchNorm1d(256),\n",
    "            Mish(),\n",
    "            nn.Dropout(dropout),\n",
    "            nn.Linear(256, 512),\n",
    "            nn.BatchNorm1d(512),\n",
    "            Mish(),\n",
    "            nn.Dropout(dropout),\n",
    "            nn.Linear(512, 1024),\n",
    "            nn.BatchNorm1d(1024),\n",
    "            Mish(),\n",
    "            nn.Dropout(dropout),\n",
    "            nn.Linear(1024, 512),\n",
    "            nn.BatchNorm1d(512),\n",
    "            Mish(),\n",
    "            nn.Dropout(dropout),\n",
    "            nn.Linear(512, 256),\n",
    "            nn.BatchNorm1d(256),\n",
    "            Mish(),\n",
    "            nn.Linear(256, 128),\n",
    "            nn.BatchNorm1d(128),\n",
    "            Mish(),\n",
    "            nn.Linear(128, 64),\n",
    "            nn.BatchNorm1d(64),\n",
    "            Mish(),\n",
    "            nn.Linear(64, 32),\n",
    "            nn.BatchNorm1d(32),\n",
    "            Mish(),\n",
    "            nn.Linear(32, output_dim)\n",
    "        )\n",
    "\n",
    "    def forward(self, x):\n",
    "        return self.main_net(x)"
   ]
  },
  {
   "cell_type": "code",
   "execution_count": null,
   "metadata": {
    "execution": {
     "iopub.execute_input": "2025-01-19T20:21:27.216645Z",
     "iopub.status.busy": "2025-01-19T20:21:27.216340Z",
     "iopub.status.idle": "2025-01-19T20:21:27.230970Z",
     "shell.execute_reply": "2025-01-19T20:21:27.230070Z",
     "shell.execute_reply.started": "2025-01-19T20:21:27.216612Z"
    },
    "trusted": true
   },
   "outputs": [],
   "source": [
    "# Define Train function\n",
    "def train_epoch(model, device, train_loader, optimizer):\n",
    "    model.train()\n",
    "    for data, target in train_loader:\n",
    "        data, target = data.to(device), target.to(device)\n",
    "        optimizer.zero_grad()\n",
    "        output = model(data)\n",
    "        loss = F.mse_loss(output, target)\n",
    "        loss.backward()\n",
    "        optimizer.step()\n",
    "\n",
    "# Define Test function\n",
    "def test_epoch(model, device, test_loader):\n",
    "    model.eval()\n",
    "    test_loss = 0\n",
    "    all_targets, all_outputs = [], []\n",
    "    with torch.no_grad():\n",
    "        for data, target in test_loader:\n",
    "            data, target = data.to(device), target.to(device)\n",
    "            output = model(data)\n",
    "            test_loss += F.mse_loss(output, target, reduction='sum').item()\n",
    "            all_targets.append(target.cpu().numpy())\n",
    "            all_outputs.append(output.cpu().numpy())\n",
    "\n",
    "    test_loss /= len(test_loader.dataset)\n",
    "    rmse = np.sqrt(test_loss)\n",
    "    all_targets = np.concatenate(all_targets)\n",
    "    all_outputs = np.concatenate(all_outputs)\n",
    "    r2 = r2_score(all_targets, all_outputs)\n",
    "    return rmse, r2"
   ]
  },
  {
   "cell_type": "code",
   "execution_count": null,
   "metadata": {
    "execution": {
     "iopub.execute_input": "2025-01-19T20:21:27.231993Z",
     "iopub.status.busy": "2025-01-19T20:21:27.231710Z",
     "iopub.status.idle": "2025-01-19T20:21:33.374626Z",
     "shell.execute_reply": "2025-01-19T20:21:33.373914Z",
     "shell.execute_reply.started": "2025-01-19T20:21:27.231972Z"
    },
    "trusted": true
   },
   "outputs": [
    {
     "name": "stderr",
     "output_type": "stream",
     "text": [
      "\u001b[34m\u001b[1mwandb\u001b[0m: Using wandb-core as the SDK backend.  Please refer to https://wandb.me/wandb-core for more information.\n",
      "\u001b[34m\u001b[1mwandb\u001b[0m: Currently logged in as: \u001b[33mfrancescogiannuzzo2002-fg\u001b[0m (\u001b[33mmldlfragian\u001b[0m). Use \u001b[1m`wandb login --relogin`\u001b[0m to force relogin\n",
      "\u001b[34m\u001b[1mwandb\u001b[0m: \u001b[33mWARNING\u001b[0m If you're specifying your api key in code, ensure this code is not shared publicly.\n",
      "\u001b[34m\u001b[1mwandb\u001b[0m: \u001b[33mWARNING\u001b[0m Consider setting the WANDB_API_KEY environment variable, or running `wandb login` from the command line.\n",
      "\u001b[34m\u001b[1mwandb\u001b[0m: Appending key for api.wandb.ai to your netrc file: /root/.netrc\n"
     ]
    }
   ],
   "source": [
    "# Define wandb config\n",
    "wandb.login(key=\"xxx\") # Change key to your own key if you want to log to wandb\n",
    "os.environ[\"WANDB_SILENT\"] = \"true\""
   ]
  },
  {
   "cell_type": "code",
   "execution_count": null,
   "metadata": {
    "execution": {
     "iopub.execute_input": "2025-01-19T17:14:51.675293Z",
     "iopub.status.busy": "2025-01-19T17:14:51.674864Z",
     "iopub.status.idle": "2025-01-19T17:14:51.679948Z",
     "shell.execute_reply": "2025-01-19T17:14:51.678919Z",
     "shell.execute_reply.started": "2025-01-19T17:14:51.675269Z"
    },
    "trusted": true
   },
   "outputs": [],
   "source": [
    "# Define hyperparameters\n",
    "sweep_config = {\n",
    "    \"method\": \"grid\",\n",
    "    \"metric\": {\"name\": \"rmse\", \"goal\": \"minimize\"},\n",
    "    \"parameters\": {\n",
    "        \"learning_rate\": {\"values\": [0.001, 0.01]},\n",
    "        \"weight_decay\": {\"values\": [1e-8, 1e-6, 1e-4]},\n",
    "        \"dropout\": {\"values\": [0.4, 0.5, 0.6]},\n",
    "        \"batch_size\": {\"values\": [64, 128, 256]}\n",
    "    },\n",
    "}"
   ]
  },
  {
   "cell_type": "code",
   "execution_count": null,
   "metadata": {
    "execution": {
     "iopub.execute_input": "2025-01-19T17:17:33.152721Z",
     "iopub.status.busy": "2025-01-19T17:17:33.152428Z",
     "iopub.status.idle": "2025-01-19T19:57:42.027039Z",
     "shell.execute_reply": "2025-01-19T19:57:42.026326Z",
     "shell.execute_reply.started": "2025-01-19T17:17:33.152699Z"
    },
    "trusted": true
   },
   "outputs": [
    {
     "name": "stderr",
     "output_type": "stream",
     "text": [
      "\u001b[34m\u001b[1mwandb\u001b[0m: Agent Starting Run: nydnvbp4 with config:\n",
      "\u001b[34m\u001b[1mwandb\u001b[0m: \tbatch_size: 64\n",
      "\u001b[34m\u001b[1mwandb\u001b[0m: \tdropout: 0.4\n",
      "\u001b[34m\u001b[1mwandb\u001b[0m: \tlearning_rate: 0.001\n",
      "\u001b[34m\u001b[1mwandb\u001b[0m: \tweight_decay: 1e-08\n"
     ]
    },
    {
     "data": {
      "text/html": [],
      "text/plain": [
       "<IPython.core.display.HTML object>"
      ]
     },
     "metadata": {},
     "output_type": "display_data"
    },
    {
     "data": {
      "text/html": [],
      "text/plain": [
       "<IPython.core.display.HTML object>"
      ]
     },
     "metadata": {},
     "output_type": "display_data"
    },
    {
     "data": {
      "text/html": [],
      "text/plain": [
       "<IPython.core.display.HTML object>"
      ]
     },
     "metadata": {},
     "output_type": "display_data"
    },
    {
     "data": {
      "text/html": [],
      "text/plain": [
       "<IPython.core.display.HTML object>"
      ]
     },
     "metadata": {},
     "output_type": "display_data"
    },
    {
     "data": {
      "text/html": [],
      "text/plain": [
       "<IPython.core.display.HTML object>"
      ]
     },
     "metadata": {},
     "output_type": "display_data"
    },
    {
     "data": {
      "text/html": [],
      "text/plain": [
       "<IPython.core.display.HTML object>"
      ]
     },
     "metadata": {},
     "output_type": "display_data"
    },
    {
     "data": {
      "text/html": [],
      "text/plain": [
       "<IPython.core.display.HTML object>"
      ]
     },
     "metadata": {},
     "output_type": "display_data"
    },
    {
     "data": {
      "text/html": [],
      "text/plain": [
       "<IPython.core.display.HTML object>"
      ]
     },
     "metadata": {},
     "output_type": "display_data"
    },
    {
     "data": {
      "text/html": [],
      "text/plain": [
       "<IPython.core.display.HTML object>"
      ]
     },
     "metadata": {},
     "output_type": "display_data"
    },
    {
     "data": {
      "text/html": [],
      "text/plain": [
       "<IPython.core.display.HTML object>"
      ]
     },
     "metadata": {},
     "output_type": "display_data"
    },
    {
     "data": {
      "text/html": [],
      "text/plain": [
       "<IPython.core.display.HTML object>"
      ]
     },
     "metadata": {},
     "output_type": "display_data"
    },
    {
     "data": {
      "text/html": [],
      "text/plain": [
       "<IPython.core.display.HTML object>"
      ]
     },
     "metadata": {},
     "output_type": "display_data"
    },
    {
     "data": {
      "text/html": [],
      "text/plain": [
       "<IPython.core.display.HTML object>"
      ]
     },
     "metadata": {},
     "output_type": "display_data"
    },
    {
     "data": {
      "text/html": [],
      "text/plain": [
       "<IPython.core.display.HTML object>"
      ]
     },
     "metadata": {},
     "output_type": "display_data"
    },
    {
     "data": {
      "text/html": [],
      "text/plain": [
       "<IPython.core.display.HTML object>"
      ]
     },
     "metadata": {},
     "output_type": "display_data"
    },
    {
     "data": {
      "text/html": [],
      "text/plain": [
       "<IPython.core.display.HTML object>"
      ]
     },
     "metadata": {},
     "output_type": "display_data"
    },
    {
     "data": {
      "text/html": [],
      "text/plain": [
       "<IPython.core.display.HTML object>"
      ]
     },
     "metadata": {},
     "output_type": "display_data"
    },
    {
     "data": {
      "text/html": [],
      "text/plain": [
       "<IPython.core.display.HTML object>"
      ]
     },
     "metadata": {},
     "output_type": "display_data"
    },
    {
     "data": {
      "text/html": [],
      "text/plain": [
       "<IPython.core.display.HTML object>"
      ]
     },
     "metadata": {},
     "output_type": "display_data"
    },
    {
     "data": {
      "text/html": [],
      "text/plain": [
       "<IPython.core.display.HTML object>"
      ]
     },
     "metadata": {},
     "output_type": "display_data"
    },
    {
     "data": {
      "text/html": [],
      "text/plain": [
       "<IPython.core.display.HTML object>"
      ]
     },
     "metadata": {},
     "output_type": "display_data"
    },
    {
     "data": {
      "text/html": [],
      "text/plain": [
       "<IPython.core.display.HTML object>"
      ]
     },
     "metadata": {},
     "output_type": "display_data"
    },
    {
     "data": {
      "text/html": [],
      "text/plain": [
       "<IPython.core.display.HTML object>"
      ]
     },
     "metadata": {},
     "output_type": "display_data"
    },
    {
     "data": {
      "text/html": [],
      "text/plain": [
       "<IPython.core.display.HTML object>"
      ]
     },
     "metadata": {},
     "output_type": "display_data"
    },
    {
     "data": {
      "text/html": [],
      "text/plain": [
       "<IPython.core.display.HTML object>"
      ]
     },
     "metadata": {},
     "output_type": "display_data"
    },
    {
     "data": {
      "text/html": [],
      "text/plain": [
       "<IPython.core.display.HTML object>"
      ]
     },
     "metadata": {},
     "output_type": "display_data"
    },
    {
     "data": {
      "text/html": [],
      "text/plain": [
       "<IPython.core.display.HTML object>"
      ]
     },
     "metadata": {},
     "output_type": "display_data"
    },
    {
     "data": {
      "text/html": [],
      "text/plain": [
       "<IPython.core.display.HTML object>"
      ]
     },
     "metadata": {},
     "output_type": "display_data"
    },
    {
     "data": {
      "text/html": [],
      "text/plain": [
       "<IPython.core.display.HTML object>"
      ]
     },
     "metadata": {},
     "output_type": "display_data"
    },
    {
     "data": {
      "text/html": [],
      "text/plain": [
       "<IPython.core.display.HTML object>"
      ]
     },
     "metadata": {},
     "output_type": "display_data"
    },
    {
     "data": {
      "text/html": [],
      "text/plain": [
       "<IPython.core.display.HTML object>"
      ]
     },
     "metadata": {},
     "output_type": "display_data"
    },
    {
     "data": {
      "text/html": [],
      "text/plain": [
       "<IPython.core.display.HTML object>"
      ]
     },
     "metadata": {},
     "output_type": "display_data"
    },
    {
     "data": {
      "text/html": [],
      "text/plain": [
       "<IPython.core.display.HTML object>"
      ]
     },
     "metadata": {},
     "output_type": "display_data"
    },
    {
     "data": {
      "text/html": [],
      "text/plain": [
       "<IPython.core.display.HTML object>"
      ]
     },
     "metadata": {},
     "output_type": "display_data"
    },
    {
     "data": {
      "text/html": [],
      "text/plain": [
       "<IPython.core.display.HTML object>"
      ]
     },
     "metadata": {},
     "output_type": "display_data"
    },
    {
     "data": {
      "text/html": [],
      "text/plain": [
       "<IPython.core.display.HTML object>"
      ]
     },
     "metadata": {},
     "output_type": "display_data"
    },
    {
     "data": {
      "text/html": [],
      "text/plain": [
       "<IPython.core.display.HTML object>"
      ]
     },
     "metadata": {},
     "output_type": "display_data"
    },
    {
     "data": {
      "text/html": [],
      "text/plain": [
       "<IPython.core.display.HTML object>"
      ]
     },
     "metadata": {},
     "output_type": "display_data"
    },
    {
     "data": {
      "text/html": [],
      "text/plain": [
       "<IPython.core.display.HTML object>"
      ]
     },
     "metadata": {},
     "output_type": "display_data"
    },
    {
     "data": {
      "text/html": [],
      "text/plain": [
       "<IPython.core.display.HTML object>"
      ]
     },
     "metadata": {},
     "output_type": "display_data"
    },
    {
     "data": {
      "text/html": [],
      "text/plain": [
       "<IPython.core.display.HTML object>"
      ]
     },
     "metadata": {},
     "output_type": "display_data"
    },
    {
     "data": {
      "text/html": [],
      "text/plain": [
       "<IPython.core.display.HTML object>"
      ]
     },
     "metadata": {},
     "output_type": "display_data"
    },
    {
     "data": {
      "text/html": [],
      "text/plain": [
       "<IPython.core.display.HTML object>"
      ]
     },
     "metadata": {},
     "output_type": "display_data"
    },
    {
     "data": {
      "text/html": [],
      "text/plain": [
       "<IPython.core.display.HTML object>"
      ]
     },
     "metadata": {},
     "output_type": "display_data"
    },
    {
     "data": {
      "text/html": [],
      "text/plain": [
       "<IPython.core.display.HTML object>"
      ]
     },
     "metadata": {},
     "output_type": "display_data"
    },
    {
     "data": {
      "text/html": [],
      "text/plain": [
       "<IPython.core.display.HTML object>"
      ]
     },
     "metadata": {},
     "output_type": "display_data"
    },
    {
     "data": {
      "text/html": [],
      "text/plain": [
       "<IPython.core.display.HTML object>"
      ]
     },
     "metadata": {},
     "output_type": "display_data"
    },
    {
     "data": {
      "text/html": [],
      "text/plain": [
       "<IPython.core.display.HTML object>"
      ]
     },
     "metadata": {},
     "output_type": "display_data"
    },
    {
     "data": {
      "text/html": [],
      "text/plain": [
       "<IPython.core.display.HTML object>"
      ]
     },
     "metadata": {},
     "output_type": "display_data"
    },
    {
     "data": {
      "text/html": [],
      "text/plain": [
       "<IPython.core.display.HTML object>"
      ]
     },
     "metadata": {},
     "output_type": "display_data"
    },
    {
     "data": {
      "text/html": [],
      "text/plain": [
       "<IPython.core.display.HTML object>"
      ]
     },
     "metadata": {},
     "output_type": "display_data"
    },
    {
     "data": {
      "text/html": [],
      "text/plain": [
       "<IPython.core.display.HTML object>"
      ]
     },
     "metadata": {},
     "output_type": "display_data"
    },
    {
     "data": {
      "text/html": [],
      "text/plain": [
       "<IPython.core.display.HTML object>"
      ]
     },
     "metadata": {},
     "output_type": "display_data"
    },
    {
     "data": {
      "text/html": [],
      "text/plain": [
       "<IPython.core.display.HTML object>"
      ]
     },
     "metadata": {},
     "output_type": "display_data"
    }
   ],
   "source": [
    "# Initialize wandb sweep\n",
    "sweep_id = wandb.sweep(sweep_config, project=\"grid_search_tuning_MALIS_f\")\n",
    "results = []\n",
    "\n",
    "# Define train sweep function\n",
    "def train_sweep(config=None):\n",
    "        wandb.init(project=\"grid_search_tuning_MALIS_f\", settings=wandb.Settings(silent=\"true\"))\n",
    "        config = wandb.config\n",
    "\n",
    "        train_loader = DataLoader(train_data, batch_size=config.batch_size, shuffle=True)\n",
    "        test_loader = DataLoader(test_data, batch_size=config.batch_size, shuffle=False)\n",
    "\n",
    "        model = Net(input_features=X_train.shape[1], dropout=config.dropout).to(device)\n",
    "        optimizer = optim.RMSprop(model.parameters(), lr=config.learning_rate, weight_decay=config.weight_decay, alpha=0.9,eps=1e-16)\n",
    "    \n",
    "        for epoch in range(1, 501):\n",
    "            train_epoch(model, device, train_loader, optimizer)\n",
    "\n",
    "        rmse, r2 = test_epoch(model, device, test_loader)\n",
    "        wandb.log({\"rmse\": rmse, \"r2\": r2})\n",
    "\n",
    "        results.append({\n",
    "            \"rmse\": rmse,\n",
    "            \"r2\": r2,\n",
    "            \"config\": {\n",
    "                \"learning_rate\": config.learning_rate,\n",
    "                \"weight_decay\": config.weight_decay,\n",
    "                \"dropout\": config.dropout,\n",
    "                \"batch_size\": config.batch_size,\n",
    "            },\n",
    "        })\n",
    "\n",
    "# Run wandb agent\n",
    "wandb.agent(sweep_id, function=train_sweep)\n",
    "wandb.finish()"
   ]
  },
  {
   "cell_type": "code",
   "execution_count": null,
   "metadata": {
    "execution": {
     "iopub.execute_input": "2025-01-19T19:59:18.838342Z",
     "iopub.status.busy": "2025-01-19T19:59:18.838017Z",
     "iopub.status.idle": "2025-01-19T19:59:18.844465Z",
     "shell.execute_reply": "2025-01-19T19:59:18.843651Z",
     "shell.execute_reply.started": "2025-01-19T19:59:18.838317Z"
    },
    "trusted": true
   },
   "outputs": [
    {
     "name": "stdout",
     "output_type": "stream",
     "text": [
      "Top 5:\n",
      "Rank 1: RMSE=96.87442882991559, R2=0.7587296022515624, Config={'learning_rate': 0.001, 'weight_decay': 1e-06, 'dropout': 0.4, 'batch_size': 128}\n",
      "Rank 2: RMSE=97.21548287115348, R2=0.7570277912547838, Config={'learning_rate': 0.001, 'weight_decay': 1e-08, 'dropout': 0.6, 'batch_size': 128}\n",
      "Rank 3: RMSE=97.62904980560941, R2=0.7549561265019948, Config={'learning_rate': 0.001, 'weight_decay': 1e-08, 'dropout': 0.6, 'batch_size': 256}\n",
      "Rank 4: RMSE=98.05535479059881, R2=0.7528114386440358, Config={'learning_rate': 0.001, 'weight_decay': 1e-06, 'dropout': 0.5, 'batch_size': 256}\n",
      "Rank 5: RMSE=98.17726173149939, R2=0.7521964269715234, Config={'learning_rate': 0.001, 'weight_decay': 0.0001, 'dropout': 0.5, 'batch_size': 128}\n"
     ]
    }
   ],
   "source": [
    "# Print top 5 results\n",
    "results = sorted(results, key=lambda x: x[\"rmse\"])\n",
    "print(\"Top 5:\")\n",
    "for i, res in enumerate(results[:5]):\n",
    "    print(f\"Rank {i+1}: RMSE={res['rmse']}, R2={res['r2']}, Config={res['config']}\")"
   ]
  },
  {
   "cell_type": "code",
   "execution_count": null,
   "metadata": {
    "execution": {
     "iopub.execute_input": "2025-01-19T20:22:43.719969Z",
     "iopub.status.busy": "2025-01-19T20:22:43.719676Z",
     "iopub.status.idle": "2025-01-19T21:13:12.466741Z",
     "shell.execute_reply": "2025-01-19T21:13:12.465911Z",
     "shell.execute_reply.started": "2025-01-19T20:22:43.719939Z"
    },
    "trusted": true
   },
   "outputs": [
    {
     "name": "stdout",
     "output_type": "stream",
     "text": [
      "Retraining configuration 1 for 1500 epochs: {'learning_rate': 0.001, 'weight_decay': 1e-06, 'dropout': 0.4, 'batch_size': 128}\n",
      "Epoch 500: RMSE=101.1443, Best RMSE=96.0929\n",
      "Epoch 1000: RMSE=101.4612, Best RMSE=96.0929\n",
      "Epoch 1500: RMSE=103.2186, Best RMSE=96.0929\n"
     ]
    },
    {
     "data": {
      "text/html": [],
      "text/plain": [
       "<IPython.core.display.HTML object>"
      ]
     },
     "metadata": {},
     "output_type": "display_data"
    },
    {
     "data": {
      "text/html": [
       "Changes to your `wandb` environment variables will be ignored because your `wandb` session has already started. For more information on how to modify your settings with `wandb.init()` arguments, please refer to <a href='https://wandb.me/wandb-init' target=\"_blank\">the W&B docs</a>."
      ],
      "text/plain": [
       "<IPython.core.display.HTML object>"
      ]
     },
     "metadata": {},
     "output_type": "display_data"
    },
    {
     "name": "stdout",
     "output_type": "stream",
     "text": [
      "Retraining configuration 2 for 1500 epochs: {'learning_rate': 0.001, 'weight_decay': 1e-08, 'dropout': 0.6, 'batch_size': 128}\n",
      "Epoch 500: RMSE=96.8804, Best RMSE=95.8535\n",
      "Epoch 1000: RMSE=96.7926, Best RMSE=94.9880\n",
      "Epoch 1500: RMSE=97.3618, Best RMSE=94.9880\n"
     ]
    },
    {
     "data": {
      "text/html": [],
      "text/plain": [
       "<IPython.core.display.HTML object>"
      ]
     },
     "metadata": {},
     "output_type": "display_data"
    },
    {
     "data": {
      "text/html": [
       "Changes to your `wandb` environment variables will be ignored because your `wandb` session has already started. For more information on how to modify your settings with `wandb.init()` arguments, please refer to <a href='https://wandb.me/wandb-init' target=\"_blank\">the W&B docs</a>."
      ],
      "text/plain": [
       "<IPython.core.display.HTML object>"
      ]
     },
     "metadata": {},
     "output_type": "display_data"
    },
    {
     "name": "stdout",
     "output_type": "stream",
     "text": [
      "Retraining configuration 3 for 1500 epochs: {'learning_rate': 0.001, 'weight_decay': 1e-08, 'dropout': 0.6, 'batch_size': 256}\n",
      "Epoch 500: RMSE=97.2568, Best RMSE=95.5222\n",
      "Epoch 1000: RMSE=99.4850, Best RMSE=95.5222\n",
      "Epoch 1500: RMSE=101.1628, Best RMSE=95.5222\n"
     ]
    },
    {
     "data": {
      "text/html": [],
      "text/plain": [
       "<IPython.core.display.HTML object>"
      ]
     },
     "metadata": {},
     "output_type": "display_data"
    },
    {
     "data": {
      "text/html": [
       "Changes to your `wandb` environment variables will be ignored because your `wandb` session has already started. For more information on how to modify your settings with `wandb.init()` arguments, please refer to <a href='https://wandb.me/wandb-init' target=\"_blank\">the W&B docs</a>."
      ],
      "text/plain": [
       "<IPython.core.display.HTML object>"
      ]
     },
     "metadata": {},
     "output_type": "display_data"
    },
    {
     "name": "stdout",
     "output_type": "stream",
     "text": [
      "Retraining configuration 4 for 1500 epochs: {'learning_rate': 0.001, 'weight_decay': 1e-06, 'dropout': 0.5, 'batch_size': 256}\n",
      "Epoch 500: RMSE=100.4953, Best RMSE=95.0686\n",
      "Epoch 1000: RMSE=101.9900, Best RMSE=94.0233\n",
      "Epoch 1500: RMSE=98.5272, Best RMSE=93.3325\n"
     ]
    },
    {
     "data": {
      "text/html": [],
      "text/plain": [
       "<IPython.core.display.HTML object>"
      ]
     },
     "metadata": {},
     "output_type": "display_data"
    },
    {
     "data": {
      "text/html": [
       "Changes to your `wandb` environment variables will be ignored because your `wandb` session has already started. For more information on how to modify your settings with `wandb.init()` arguments, please refer to <a href='https://wandb.me/wandb-init' target=\"_blank\">the W&B docs</a>."
      ],
      "text/plain": [
       "<IPython.core.display.HTML object>"
      ]
     },
     "metadata": {},
     "output_type": "display_data"
    },
    {
     "name": "stdout",
     "output_type": "stream",
     "text": [
      "Retraining configuration 5 for 1500 epochs: {'learning_rate': 0.001, 'weight_decay': 0.0001, 'dropout': 0.5, 'batch_size': 128}\n",
      "Epoch 500: RMSE=101.2396, Best RMSE=95.2558\n",
      "Epoch 1000: RMSE=97.7611, Best RMSE=94.6949\n",
      "Epoch 1500: RMSE=96.8896, Best RMSE=94.3560\n"
     ]
    },
    {
     "data": {
      "text/html": [],
      "text/plain": [
       "<IPython.core.display.HTML object>"
      ]
     },
     "metadata": {},
     "output_type": "display_data"
    },
    {
     "name": "stdout",
     "output_type": "stream",
     "text": [
      "\n",
      "Best configuration after retraining:\n",
      "RMSE=93.33247956119693, R2=0.7760498628800443, Config={'learning_rate': 0.001, 'weight_decay': 1e-06, 'dropout': 0.5, 'batch_size': 256}\n"
     ]
    }
   ],
   "source": [
    "# Retrain top 5 configurations for 1500 epochs\n",
    "best_results = []\n",
    "\n",
    "for i, best_config in enumerate(results[:5]):\n",
    "    # Initialize wandb\n",
    "    wandb.init(project=\"network_best_regression_f\", name=f\"config_{i+1}\", settings=wandb.Settings(silent=\"true\"))\n",
    "    print(f\"Retraining configuration {i + 1} for 1500 epochs: {best_config['config']}\")\n",
    "    config = best_config[\"config\"]\n",
    "    # Create data loaders\n",
    "    train_loader = DataLoader(train_data, batch_size=config[\"batch_size\"], shuffle=True)\n",
    "    test_loader = DataLoader(test_data, batch_size=config[\"batch_size\"], shuffle=False)\n",
    "    # Define model\n",
    "    model = Net(input_features=X_train.shape[1], dropout=config[\"dropout\"]).to(device)\n",
    "    # Define optimizer\n",
    "    optimizer = optim.RMSprop(model.parameters(),lr=config[\"learning_rate\"],weight_decay=config[\"weight_decay\"],alpha=0.9,eps=1e-16)\n",
    "    best_rmse = float(\"inf\")\n",
    "\n",
    "    # Train for each epoch and log results\n",
    "    for epoch in range(1, 1501):\n",
    "        train_epoch(model, device, train_loader, optimizer)\n",
    "        rmse, r2 = test_epoch(model, device, train_loader)\n",
    "        if epoch % 50 == 0: wandb.log({\"epoch\": epoch, \"train_rmse\": rmse, \"train_r2\": r2})\n",
    "        rmse, r2 = test_epoch(model, device, test_loader)\n",
    "        if epoch % 50 == 0: wandb.log({\"epoch\": epoch, \"test_rmse\": rmse, \"test_r2\": r2})\n",
    "        if rmse < best_rmse:\n",
    "            best_rmse = rmse\n",
    "            best_r2 = r2\n",
    "\n",
    "        if epoch % 500 == 0:\n",
    "            print(f\"Epoch {epoch}: RMSE={rmse:.4f}, Best RMSE={best_rmse:.4f}\")\n",
    "\n",
    "    best_results.append({\n",
    "        \"best_rmse\": best_rmse,\n",
    "        \"best_r2\": best_r2,\n",
    "        \"config\": config,\n",
    "    })\n",
    "    wandb.finish()\n",
    "    \n",
    "# Print best results\n",
    "best_results = sorted(best_results, key=lambda x: x[\"best_rmse\"])\n",
    "print(\"\\nBest configuration after retraining:\")\n",
    "print(f\"RMSE={best_results[0]['best_rmse']}, R2={best_results[0]['best_r2']}, Config={best_results[0]['config']}\")"
   ]
  }
 ],
 "metadata": {
  "kaggle": {
   "accelerator": "nvidiaTeslaT4",
   "dataSources": [
    {
     "datasetId": 6390534,
     "sourceId": 10321571,
     "sourceType": "datasetVersion"
    },
    {
     "datasetId": 6390977,
     "sourceId": 10322193,
     "sourceType": "datasetVersion"
    },
    {
     "datasetId": 6445087,
     "sourceId": 10401558,
     "sourceType": "datasetVersion"
    },
    {
     "datasetId": 6508743,
     "sourceId": 10515322,
     "sourceType": "datasetVersion"
    }
   ],
   "dockerImageVersionId": 30840,
   "isGpuEnabled": true,
   "isInternetEnabled": true,
   "language": "python",
   "sourceType": "notebook"
  },
  "kernelspec": {
   "display_name": ".venv",
   "language": "python",
   "name": "python3"
  },
  "language_info": {
   "codemirror_mode": {
    "name": "ipython",
    "version": 3
   },
   "file_extension": ".py",
   "mimetype": "text/x-python",
   "name": "python",
   "nbconvert_exporter": "python",
   "pygments_lexer": "ipython3",
   "version": "3.12.0"
  }
 },
 "nbformat": 4,
 "nbformat_minor": 4
}
